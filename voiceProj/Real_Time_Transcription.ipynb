{
 "cells": [
  {
   "cell_type": "code",
   "execution_count": 2,
   "id": "6f8be89b",
   "metadata": {},
   "outputs": [],
   "source": [
    "import whisper\n",
    "import pyaudio\n",
    "import numpy as np\n",
    "import time"
   ]
  },
  {
   "cell_type": "code",
   "execution_count": 3,
   "id": "3a3b4d3e",
   "metadata": {},
   "outputs": [],
   "source": [
    "model = whisper.load_model(\"tiny\") # more optimized for cpu "
   ]
  },
  {
   "cell_type": "code",
   "execution_count": 4,
   "id": "6995c4aa",
   "metadata": {},
   "outputs": [],
   "source": [
    "CHUNK = 1024 # audio frames per buffer\n",
    "FORMAT = pyaudio.paInt16 #16 bit audio\n",
    "CHANNELS = 1 # mono audio (All elements in one stream)\n",
    "RATE = 16000 #16000 HZ frequency"
   ]
  },
  {
   "cell_type": "code",
   "execution_count": 5,
   "id": "9a56d993",
   "metadata": {},
   "outputs": [
    {
     "name": "stdout",
     "output_type": "stream",
     "text": [
      "Speak now...\n",
      "You Said:  Oh, yeah, yeah.\n",
      "Processing time:  2.54 seconds \n",
      "\n",
      "You Said:  There you go.\n",
      "Processing time:  2.05 seconds \n",
      "\n",
      "You Said:  It's your oe-e-e-e-e-e.\n",
      "Processing time:  2.54 seconds \n",
      "\n",
      "You Said:  Is it still the city? Hi, my name is Abba.\n",
      "Processing time:  2.13 seconds \n",
      "\n",
      "You Said:  salud lead\n",
      "Processing time:  2.69 seconds \n",
      "\n",
      "You Said:  It keeps, it's like, 2\n",
      "Processing time:  2.79 seconds \n",
      "\n",
      "You Said:  is chunks and\n",
      "Processing time:  2.08 seconds \n",
      "\n",
      "You Said:  process is what you say. I like men.\n",
      "Processing time:  2.10 seconds \n",
      "\n",
      "You Said:  Yeah, that makes me sick.\n",
      "Processing time:  2.08 seconds \n",
      "\n",
      "You Said:  of\n",
      "Processing time:  2.69 seconds \n",
      "\n",
      "You Said:  They're really cool. It's the tiny m-\n",
      "Processing time:  2.14 seconds \n",
      "\n",
      "Stopping transcription.....\n"
     ]
    }
   ],
   "source": [
    "p = pyaudio.PyAudio()\n",
    "stream = p.open(format=FORMAT, channels=CHANNELS, rate=RATE, input = True, frames_per_buffer = CHUNK)\n",
    "print(\"Speak now...\")\n",
    "try:\n",
    "    while True:\n",
    "        frames = []\n",
    "        start_time = time.time()\n",
    "    \n",
    "        for _ in range(0, int(RATE / CHUNK * 2)): #record for a certain amnt of time\n",
    "            data = stream.read(CHUNK, exception_on_overflow = False) #read audio chunk\n",
    "            frames.append(np.frombuffer(data, dtype=np.int16)) #append as a frame\n",
    "        audio_data = np.hstack(frames).astype(np.float32) / 32768.0 #convert frames into an np array, normalized to [-1,1]\n",
    "        result = model.transcribe(audio_data, fp16=False) #have whisper transcribe audio\n",
    "        print(\"You Said: \", result['text'].strip()) #print out what whisper transcibed from audio\n",
    "        end_time = time.time()\n",
    "        print(f\"Processing time: {end_time - start_time: .2f} seconds \\n\")\n",
    "\n",
    "except KeyboardInterrupt:\n",
    "    print(\"Stopping transcription.....\")\n",
    "    stream.stop_stream()\n",
    "    stream.close()\n",
    "    p.terminate()\n",
    "        "
   ]
  },
  {
   "cell_type": "code",
   "execution_count": null,
   "id": "65238614",
   "metadata": {},
   "outputs": [],
   "source": []
  }
 ],
 "metadata": {
  "kernelspec": {
   "display_name": "Python (deepspeech_env)",
   "language": "python",
   "name": "deepspeech_env"
  },
  "language_info": {
   "codemirror_mode": {
    "name": "ipython",
    "version": 3
   },
   "file_extension": ".py",
   "mimetype": "text/x-python",
   "name": "python",
   "nbconvert_exporter": "python",
   "pygments_lexer": "ipython3",
   "version": "3.9.18"
  }
 },
 "nbformat": 4,
 "nbformat_minor": 5
}
