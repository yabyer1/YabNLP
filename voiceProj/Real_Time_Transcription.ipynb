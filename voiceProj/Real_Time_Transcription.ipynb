{
 "cells": [
  {
   "cell_type": "code",
   "execution_count": 11,
   "id": "e39f8f53",
   "metadata": {},
   "outputs": [],
   "source": [
    "import whisper\n",
    "import pyaudio\n",
    "import numpy as np\n",
    "import time"
   ]
  },
  {
   "cell_type": "code",
   "execution_count": 12,
   "id": "3b7faab6",
   "metadata": {},
   "outputs": [],
   "source": [
    "model = whisper.load_model(\"tiny\") # more optimized for cpu "
   ]
  },
  {
   "cell_type": "code",
   "execution_count": 13,
   "id": "2792d410",
   "metadata": {},
   "outputs": [],
   "source": [
    "CHUNK = 1024 # audio frames per buffer\n",
    "FORMAT = pyaudio.paInt16 #16 bit audio\n",
    "CHANNELS = 1 # mono audio (All elements in one stream)\n",
    "RATE = 16000 #16000 HZ frequency"
   ]
  },
  {
   "cell_type": "code",
   "execution_count": null,
   "id": "cbb8ed82",
   "metadata": {},
   "outputs": [
    {
     "name": "stdout",
     "output_type": "stream",
     "text": [
      "Speak now...\n",
      "You Said:  Testing, testing, testing.\n",
      "Processing time:  2.67 seconds \n",
      "\n",
      "You Said:  Why you three?\n",
      "Processing time:  2.15 seconds \n",
      "\n",
      "You Said:  Yo\n",
      "Processing time:  2.16 seconds \n",
      "\n",
      "You Said:  pop it up, pop it up, boy\n",
      "Processing time:  2.14 seconds \n",
      "\n",
      "You Said:  \n",
      "Processing time:  2.21 seconds \n",
      "\n",
      "You Said:  \n",
      "Processing time:  2.11 seconds \n",
      "\n",
      "You Said:  Woo\n",
      "Processing time:  3.11 seconds \n",
      "\n",
      "You Said:  We do\n",
      "Processing time:  2.19 seconds \n",
      "\n",
      "You Said:  That's all fellas, let's...\n",
      "Processing time:  2.18 seconds \n",
      "\n",
      "You Said:  Let's go.\n",
      "Processing time:  2.19 seconds \n",
      "\n",
      "You Said:  \n",
      "Processing time:  2.10 seconds \n",
      "\n",
      "You Said:  도둑둑둑둑둑\n",
      "Processing time:  2.23 seconds \n",
      "\n",
      "You Said:  \n",
      "Processing time:  2.13 seconds \n",
      "\n",
      "You Said:  \n",
      "Processing time:  2.28 seconds \n",
      "\n",
      "You Said:  Let's go.\n",
      "Processing time:  2.40 seconds \n",
      "\n",
      "You Said:  \n",
      "Processing time:  2.12 seconds \n",
      "\n"
     ]
    }
   ],
   "source": [
    "p = pyaudio.PyAudio()\n",
    "stream = p.open(format=FORMAT, channels=CHANNELS, rate=RATE, input = True, frames_per_buffer = CHUNK)\n",
    "print(\"Speak now...\")\n",
    "try:\n",
    "    while True:\n",
    "        frames = []\n",
    "        start_time = time.time()\n",
    "    \n",
    "        for _ in range(0, int(RATE / CHUNK * 2)): #record for a certain amnt of time\n",
    "            data = stream.read(CHUNK, exception_on_overflow = False) #read audio chunk\n",
    "            frames.append(np.frombuffer(data, dtype=np.int16)) #append as a frame\n",
    "        audio_data = np.hstack(frames).astype(np.float32) / 32768.0 #convert frames into an np array, normalized to [-1,1]\n",
    "        result = model.transcribe(audio_data, fp16=False) #have whisper transcribe audio\n",
    "        print(\"You Said: \", result['text'].strip()) #print out what whisper transcibed from audio\n",
    "        end_time = time.time()\n",
    "        print(f\"Processing time: {end_time - start_time: .2f} seconds \\n\")\n",
    "\n",
    "except KeyboardInterrupt:\n",
    "    print(\"Stopping transcription.....\")\n",
    "    stream.stop_stream()\n",
    "    stream.close()\n",
    "    p.terminate()\n",
    "        "
   ]
  },
  {
   "cell_type": "code",
   "execution_count": null,
   "id": "23b16323",
   "metadata": {},
   "outputs": [],
   "source": []
  }
 ],
 "metadata": {
  "kernelspec": {
   "display_name": "Python (deepspeech_env)",
   "language": "python",
   "name": "deepspeech_env"
  },
  "language_info": {
   "codemirror_mode": {
    "name": "ipython",
    "version": 3
   },
   "file_extension": ".py",
   "mimetype": "text/x-python",
   "name": "python",
   "nbconvert_exporter": "python",
   "pygments_lexer": "ipython3",
   "version": "3.9.18"
  }
 },
 "nbformat": 4,
 "nbformat_minor": 5
}
