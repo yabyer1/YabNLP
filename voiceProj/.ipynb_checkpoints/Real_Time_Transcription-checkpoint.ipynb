{
 "cells": [
  {
   "cell_type": "code",
   "execution_count": 11,
   "id": "995a514f",
   "metadata": {},
   "outputs": [],
   "source": [
    "import whisper\n",
    "import pyaudio\n",
    "import numpy as np\n",
    "import time"
   ]
  },
  {
   "cell_type": "code",
   "execution_count": 12,
   "id": "f2782728",
   "metadata": {},
   "outputs": [],
   "source": [
    "model = whisper.load_model(\"tiny\") # more optimized for cpu "
   ]
  },
  {
   "cell_type": "code",
   "execution_count": 13,
   "id": "ebcb5b97",
   "metadata": {},
   "outputs": [],
   "source": [
    "CHUNK = 1024 # audio frames per buffer\n",
    "FORMAT = pyaudio.paInt16 #16 bit audio\n",
    "CHANNELS = 1 # mono audio (All elements in one stream)\n",
    "RATE = 16000 #16000 HZ frequency"
   ]
  },
  {
   "cell_type": "code",
   "execution_count": 14,
   "id": "e589555d",
   "metadata": {},
   "outputs": [
    {
     "name": "stdout",
     "output_type": "stream",
     "text": [
      "Speak now...\n",
      "You Said:  и最後 здесь\n",
      "Processing time:  4.41 seconds \n",
      "\n"
     ]
    },
    {
     "ename": "OSError",
     "evalue": "[Errno -9981] Input overflowed",
     "output_type": "error",
     "traceback": [
      "\u001b[0;31m---------------------------------------------------------------------------\u001b[0m",
      "\u001b[0;31mOSError\u001b[0m                                   Traceback (most recent call last)",
      "Cell \u001b[0;32mIn[14], line 10\u001b[0m\n\u001b[1;32m      7\u001b[0m start_time \u001b[38;5;241m=\u001b[39m time\u001b[38;5;241m.\u001b[39mtime()\n\u001b[1;32m      9\u001b[0m \u001b[38;5;28;01mfor\u001b[39;00m _ \u001b[38;5;129;01min\u001b[39;00m \u001b[38;5;28mrange\u001b[39m(\u001b[38;5;241m0\u001b[39m, \u001b[38;5;28mint\u001b[39m(RATE \u001b[38;5;241m/\u001b[39m CHUNK \u001b[38;5;241m*\u001b[39m \u001b[38;5;241m2\u001b[39m)): \u001b[38;5;66;03m#record for a certain amnt of time\u001b[39;00m\n\u001b[0;32m---> 10\u001b[0m     data \u001b[38;5;241m=\u001b[39m \u001b[43mstream\u001b[49m\u001b[38;5;241;43m.\u001b[39;49m\u001b[43mread\u001b[49m\u001b[43m(\u001b[49m\u001b[43mCHUNK\u001b[49m\u001b[43m)\u001b[49m \u001b[38;5;66;03m#read audio chunk\u001b[39;00m\n\u001b[1;32m     11\u001b[0m     frames\u001b[38;5;241m.\u001b[39mappend(np\u001b[38;5;241m.\u001b[39mfrombuffer(data, dtype\u001b[38;5;241m=\u001b[39mnp\u001b[38;5;241m.\u001b[39mint16)) \u001b[38;5;66;03m#append as a frame\u001b[39;00m\n\u001b[1;32m     12\u001b[0m audio_data \u001b[38;5;241m=\u001b[39m np\u001b[38;5;241m.\u001b[39mhstack(frames)\u001b[38;5;241m.\u001b[39mastype(np\u001b[38;5;241m.\u001b[39mfloat32) \u001b[38;5;241m/\u001b[39m \u001b[38;5;241m32768.0\u001b[39m \u001b[38;5;66;03m#convert frames into an np array, normalized to [-1,1]\u001b[39;00m\n",
      "File \u001b[0;32m~/Desktop/YabNLP/voiceProj/deepspeech_env/lib/python3.9/site-packages/pyaudio/__init__.py:570\u001b[0m, in \u001b[0;36mPyAudio.Stream.read\u001b[0;34m(self, num_frames, exception_on_overflow)\u001b[0m\n\u001b[1;32m    567\u001b[0m \u001b[38;5;28;01mif\u001b[39;00m \u001b[38;5;129;01mnot\u001b[39;00m \u001b[38;5;28mself\u001b[39m\u001b[38;5;241m.\u001b[39m_is_input:\n\u001b[1;32m    568\u001b[0m     \u001b[38;5;28;01mraise\u001b[39;00m \u001b[38;5;167;01mIOError\u001b[39;00m(\u001b[38;5;124m\"\u001b[39m\u001b[38;5;124mNot input stream\u001b[39m\u001b[38;5;124m\"\u001b[39m,\n\u001b[1;32m    569\u001b[0m                   paCanNotReadFromAnOutputOnlyStream)\n\u001b[0;32m--> 570\u001b[0m \u001b[38;5;28;01mreturn\u001b[39;00m \u001b[43mpa\u001b[49m\u001b[38;5;241;43m.\u001b[39;49m\u001b[43mread_stream\u001b[49m\u001b[43m(\u001b[49m\u001b[38;5;28;43mself\u001b[39;49m\u001b[38;5;241;43m.\u001b[39;49m\u001b[43m_stream\u001b[49m\u001b[43m,\u001b[49m\u001b[43m \u001b[49m\u001b[43mnum_frames\u001b[49m\u001b[43m,\u001b[49m\n\u001b[1;32m    571\u001b[0m \u001b[43m                      \u001b[49m\u001b[43mexception_on_overflow\u001b[49m\u001b[43m)\u001b[49m\n",
      "\u001b[0;31mOSError\u001b[0m: [Errno -9981] Input overflowed"
     ]
    }
   ],
   "source": [
    "p = pyaudio.PyAudio()\n",
    "stream = p.open(format=FORMAT, channels=CHANNELS, rate=RATE, input = True, frames_per_buffer = CHUNK)\n",
    "print(\"Speak now...\")\n",
    "try:\n",
    "    while True:\n",
    "        frames = []\n",
    "        start_time = time.time()\n",
    "    \n",
    "        for _ in range(0, int(RATE / CHUNK * 2)): #record for a certain amnt of time\n",
    "            data = stream.read(CHUNK, exception_on_overflow = False) #read audio chunk\n",
    "            frames.append(np.frombuffer(data, dtype=np.int16)) #append as a frame\n",
    "        audio_data = np.hstack(frames).astype(np.float32) / 32768.0 #convert frames into an np array, normalized to [-1,1]\n",
    "        result = model.transcribe(audio_data, fp16=False) #have whisper transcribe audio\n",
    "        print(\"You Said: \", result['text'].strip()) #print out what whisper transcibed from audio\n",
    "        end_time = time.time()\n",
    "        print(f\"Processing time: {end_time - start_time: .2f} seconds \\n\")\n",
    "\n",
    "except KeyboardInterrupt:\n",
    "    print(\"Stopping transcription.....\")\n",
    "    stream.stop_stream()\n",
    "    stream.close()\n",
    "    p.terminate()\n",
    "        "
   ]
  },
  {
   "cell_type": "code",
   "execution_count": null,
   "id": "4509d558",
   "metadata": {},
   "outputs": [],
   "source": []
  }
 ],
 "metadata": {
  "kernelspec": {
   "display_name": "Python (deepspeech_env)",
   "language": "python",
   "name": "deepspeech_env"
  },
  "language_info": {
   "codemirror_mode": {
    "name": "ipython",
    "version": 3
   },
   "file_extension": ".py",
   "mimetype": "text/x-python",
   "name": "python",
   "nbconvert_exporter": "python",
   "pygments_lexer": "ipython3",
   "version": "3.9.18"
  }
 },
 "nbformat": 4,
 "nbformat_minor": 5
}
