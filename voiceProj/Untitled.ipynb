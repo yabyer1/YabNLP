{
 "cells": [
  {
   "cell_type": "code",
   "execution_count": 1,
   "id": "459e786e",
   "metadata": {},
   "outputs": [],
   "source": [
    "import whisper\n",
    "import pyaudio\n",
    "import numpy as np\n",
    "import time"
   ]
  },
  {
   "cell_type": "code",
   "execution_count": 2,
   "id": "fc139501",
   "metadata": {},
   "outputs": [
    {
     "name": "stderr",
     "output_type": "stream",
     "text": [
      "100%|█████████████████████████████████████| 72.1M/72.1M [00:03<00:00, 21.8MiB/s]\n"
     ]
    }
   ],
   "source": [
    "model = whisper.load_model(\"tiny\")"
   ]
  },
  {
   "cell_type": "code",
   "execution_count": 3,
   "id": "a90791de",
   "metadata": {},
   "outputs": [],
   "source": [
    "CHUNK = 1024\n",
    "FORMAT = pyaudio.paInt16\n",
    "CHANNELS = 1\n",
    "RATE = 16000"
   ]
  },
  {
   "cell_type": "code",
   "execution_count": 5,
   "id": "821edb25",
   "metadata": {},
   "outputs": [],
   "source": [
    "p = pyaudio.PyAudio()\n",
    "stream = p.open(format=FORMAT, channels=CHANNELS, rate=RATE, input = True, frames_per_buffer = CHUNK)"
   ]
  },
  {
   "cell_type": "code",
   "execution_count": null,
   "id": "28beadd8",
   "metadata": {},
   "outputs": [],
   "source": [
    "try:\n",
    "    while True:\n",
    "        frames = []\n",
    "        state_time = time.time()\n",
    "        for _ in range(0, int(RATE / CHUNK * 2)):\n",
    "            date = stream.read(CHUNK)\n",
    "            frames.append(np.frombuffer(date, dtype=np.int16))\n",
    "        audio_data = np.hstack(frames).astype(np.float32) / 32758.0\n",
    "        result = model.transcribe(audio_data, fp16=False)\n",
    "        print(\"You Said: \", result['text'].strip())\n",
    "        end_time = time.time()\n",
    "        "
   ]
  }
 ],
 "metadata": {
  "kernelspec": {
   "display_name": "Python (deepspeech_env)",
   "language": "python",
   "name": "deepspeech_env"
  },
  "language_info": {
   "codemirror_mode": {
    "name": "ipython",
    "version": 3
   },
   "file_extension": ".py",
   "mimetype": "text/x-python",
   "name": "python",
   "nbconvert_exporter": "python",
   "pygments_lexer": "ipython3",
   "version": "3.9.18"
  }
 },
 "nbformat": 4,
 "nbformat_minor": 5
}
